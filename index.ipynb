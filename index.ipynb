{
 "cells": [
  {
   "cell_type": "markdown",
   "metadata": {},
   "source": [
    "# SEC Format\n",
    "\n",
    "It turns out there’s already a standard for serializing ECDSA public keys called SEC. SEC stands for Standards for Efficient Cryptography and as the name suggests, it’s got minimal overhead."
   ]
  },
  {
   "cell_type": "code",
   "execution_count": null,
   "metadata": {},
   "outputs": [],
   "source": [
    "# SEC Example\n",
    "\n",
    "from ecc import S256Point\n",
    "\n",
    "point = S256Point(0x5CBDF0646E5DB4EAA398F365F2EA7A0E3D419B7E0330E39CE92BDDEDCAC4F9BC, 0x6AEBCA40BA255960A3178D6D861A54DBA813D0B813FDE7B5A5082628087264DA)\n",
    "\n",
    "uncompressed = b'\\x04' + point.x.num.to_bytes(32, 'big') + point.y.num.to_bytes(32, 'big')\n",
    "print(uncompressed.hex())\n",
    "if point.y.num % 2 == 1:\n",
    "    compressed = b'\\x03' + point.x.num.to_bytes(32, 'big')\n",
    "else:\n",
    "    compressed = b'\\x02' + point.x.num.to_bytes(32, 'big')\n",
    "print(compressed.hex())"
   ]
  },
  {
   "cell_type": "markdown",
   "metadata": {},
   "source": [
    "### Try it\n",
    "\n",
    "#### 6.1. Find the compressed and uncompressed SEC format for pub keys where the private keys are:\n",
    "```\n",
    "999**3, 123, 42424242\n",
    "```"
   ]
  },
  {
   "cell_type": "code",
   "execution_count": 7,
   "metadata": {},
   "outputs": [
    {
     "name": "stdout",
     "output_type": "stream",
     "text": [
      "049d5ca49670cbe4c3bfa84c96a8c87df086c6ea6a24ba6b809c9de234496808d56fa15cc7f3d38cda98dee2419f415b7513dde1301f8643cd9245aea7f3f911f9\n",
      "029d5ca49670cbe4c3bfa84c96a8c87df086c6ea6a24ba6b809c9de234496808d5\n",
      "\n",
      "04a598a8030da6d86c6bc7f2f5144ea549d28211ea58faa70ebf4c1e665c1fe9b5204b5d6f84822c307e4b4a7140737aec23fc63b65b35f86a10026dbd2d864e6b\n",
      "02a598a8030da6d86c6bc7f2f5144ea549d28211ea58faa70ebf4c1e665c1fe9b5\n",
      "\n",
      "04aee2e7d843f7430097859e2bc603abcc3274ff8169c1a469fee0f20614066f8e21ec53f40efac47ac1c5211b2123527e0e9b57ede790c4da1e72c91fb7da54a3\n",
      "02aee2e7d843f7430097859e2bc603abcc3274ff8169c1a469fee0f20614066f8e\n",
      "\n"
     ]
    }
   ],
   "source": [
    "from ecc import G\n",
    "\n",
    "secrets = (999**3, 123, 42424242)\n",
    "\n",
    "# iterate through secrets\n",
    "for s in secrets:\n",
    "    # get public point\n",
    "    pp = s * G\n",
    "    # uncompressed - b'\\x04' followed by x coord, then y coord\n",
    "    # here's how you express a coordinate in bytes: some_integer.to_bytes(32, 'big')\n",
    "    # compressed - b'\\x02'/b'\\x03' follewed by x coord. 02 if y is even, 03 otherwise\n",
    "    # print the .hex() of both\n",
    "    uncompressed = b'\\x04' + pp.x.num.to_bytes(32, 'big') + pp.y.num.to_bytes(32, 'big')\n",
    "    prefix = b'\\x02' if pp.y.num % 2 else b'\\x03'\n",
    "    compressed  = prefix + pp.x.num.to_bytes(32, 'big')\n",
    "    print(uncompressed.hex())\n",
    "    print(compressed.hex())\n",
    "    print()"
   ]
  },
  {
   "cell_type": "markdown",
   "metadata": {},
   "source": [
    "### Test Driven Exercise"
   ]
  },
  {
   "cell_type": "code",
   "execution_count": null,
   "metadata": {},
   "outputs": [],
   "source": [
    "from ecc import S256Point\n",
    "from helper import double_sha256, encode_base58, hash160\n",
    "\n",
    "class S256Point(S256Point):\n",
    "\n",
    "    def sec(self, compressed=True):\n",
    "        # returns the binary version of the sec format, NOT hex\n",
    "        # if compressed, starts with b'\\x02' if self.y.num is even, b'\\x03' if self.y is odd\n",
    "        if compressed:\n",
    "            return b'\\x04' + self.x.num.to_bytes(32, 'big') + pp.y.num.to_bytes(32, 'big')\n",
    "        # then self.x.num\n",
    "        # remember, you have to convert self.x.num/self.y.num to binary (some_integer.to_bytes(32, 'big'))\n",
    "        # if non-compressed, starts with b'\\x04' followod by self.x and then self.y\n",
    "        pass"
   ]
  }
 ],
 "metadata": {
  "kernelspec": {
   "display_name": "Python 3",
   "language": "python",
   "name": "python3"
  },
  "language_info": {
   "codemirror_mode": {
    "name": "ipython",
    "version": 3
   },
   "file_extension": ".py",
   "mimetype": "text/x-python",
   "name": "python",
   "nbconvert_exporter": "python",
   "pygments_lexer": "ipython3",
   "version": "3.6.4"
  }
 },
 "nbformat": 4,
 "nbformat_minor": 2
}
