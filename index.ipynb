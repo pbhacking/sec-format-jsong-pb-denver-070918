{
 "cells": [
  {
   "cell_type": "markdown",
   "metadata": {},
   "source": [
    "# SEC Format\n",
    "\n",
    "It turns out there’s already a standard for serializing ECDSA public keys called SEC. SEC stands for Standards for Efficient Cryptography and as the name suggests, it’s got minimal overhead."
   ]
  },
  {
   "cell_type": "code",
   "execution_count": null,
   "metadata": {},
   "outputs": [],
   "source": [
    "# SEC Example\n",
    "\n",
    "from ecc import S256Point\n",
    "\n",
    "point = S256Point(0x5CBDF0646E5DB4EAA398F365F2EA7A0E3D419B7E0330E39CE92BDDEDCAC4F9BC, 0x6AEBCA40BA255960A3178D6D861A54DBA813D0B813FDE7B5A5082628087264DA)\n",
    "\n",
    "uncompressed = b'\\x04' + point.x.num.to_bytes(32, 'big') + point.y.num.to_bytes(32, 'big')\n",
    "print(uncompressed.hex())\n",
    "if point.y.num % 2 == 1:\n",
    "    compressed = b'\\x03' + point.x.num.to_bytes(32, 'big')\n",
    "else:\n",
    "    compressed = b'\\x02' + point.x.num.to_bytes(32, 'big')\n",
    "print(compressed.hex())"
   ]
  },
  {
   "cell_type": "markdown",
   "metadata": {},
   "source": [
    "### Try it\n",
    "\n",
    "#### 6.1. Find the compressed and uncompressed SEC format for pub keys where the private keys are:\n",
    "```\n",
    "999**3, 123, 42424242\n",
    "```"
   ]
  },
  {
   "cell_type": "code",
   "execution_count": 5,
   "metadata": {},
   "outputs": [
    {
     "ename": "AttributeError",
     "evalue": "'S256Field' object has no attribute 'raw'",
     "output_type": "error",
     "traceback": [
      "\u001b[0;31m\u001b[0m",
      "\u001b[0;31mAttributeError\u001b[0mTraceback (most recent call last)",
      "\u001b[0;32m<ipython-input-5-e7243ae4acdb>\u001b[0m in \u001b[0;36m<module>\u001b[0;34m()\u001b[0m\n\u001b[1;32m     11\u001b[0m     \u001b[0;31m# compressed - b'\\x02'/b'\\x03' follewed by x coord. 02 if y is even, 03 otherwise\u001b[0m\u001b[0;34m\u001b[0m\u001b[0;34m\u001b[0m\u001b[0m\n\u001b[1;32m     12\u001b[0m     \u001b[0;31m# print the .hex() of both\u001b[0m\u001b[0;34m\u001b[0m\u001b[0;34m\u001b[0m\u001b[0m\n\u001b[0;32m---> 13\u001b[0;31m     \u001b[0muncompressed\u001b[0m \u001b[0;34m=\u001b[0m \u001b[0;34mb'\\x04'\u001b[0m \u001b[0;34m+\u001b[0m \u001b[0mpp\u001b[0m\u001b[0;34m.\u001b[0m\u001b[0mx\u001b[0m\u001b[0;34m.\u001b[0m\u001b[0mraw\u001b[0m\u001b[0;34m.\u001b[0m\u001b[0mto_bytes\u001b[0m\u001b[0;34m(\u001b[0m\u001b[0;36m32\u001b[0m\u001b[0;34m,\u001b[0m \u001b[0;34m'big'\u001b[0m\u001b[0;34m)\u001b[0m \u001b[0;34m+\u001b[0m \u001b[0mpp\u001b[0m\u001b[0;34m.\u001b[0m\u001b[0my\u001b[0m\u001b[0;34m.\u001b[0m\u001b[0mto_bytes\u001b[0m\u001b[0;34m(\u001b[0m\u001b[0;36m32\u001b[0m\u001b[0;34m,\u001b[0m \u001b[0;34m'big'\u001b[0m\u001b[0;34m)\u001b[0m\u001b[0;34m\u001b[0m\u001b[0m\n\u001b[0m\u001b[1;32m     14\u001b[0m     \u001b[0mprefix\u001b[0m \u001b[0;34m=\u001b[0m \u001b[0;34mb'\\x02'\u001b[0m \u001b[0;32mif\u001b[0m \u001b[0mpp\u001b[0m\u001b[0;34m.\u001b[0m\u001b[0my\u001b[0m \u001b[0;34m%\u001b[0m \u001b[0;36m2\u001b[0m \u001b[0;32melse\u001b[0m \u001b[0;34mb'\\x03'\u001b[0m\u001b[0;34m\u001b[0m\u001b[0m\n\u001b[1;32m     15\u001b[0m     \u001b[0mcompressed\u001b[0m  \u001b[0;34m=\u001b[0m \u001b[0mprefix\u001b[0m \u001b[0;34m+\u001b[0m \u001b[0mpp\u001b[0m\u001b[0;34m.\u001b[0m\u001b[0mx\u001b[0m\u001b[0;34m.\u001b[0m\u001b[0mto_bytes\u001b[0m\u001b[0;34m(\u001b[0m\u001b[0;36m32\u001b[0m\u001b[0;34m,\u001b[0m \u001b[0;34m'big'\u001b[0m\u001b[0;34m)\u001b[0m\u001b[0;34m\u001b[0m\u001b[0m\n",
      "\u001b[0;31mAttributeError\u001b[0m: 'S256Field' object has no attribute 'raw'"
     ]
    }
   ],
   "source": [
    "from ecc import G\n",
    "\n",
    "secrets = (999**3, 123, 42424242)\n",
    "\n",
    "# iterate through secrets\n",
    "for s in secrets:\n",
    "    # get public point\n",
    "    pp = s * G\n",
    "    # uncompressed - b'\\x04' followed by x coord, then y coord\n",
    "    # here's how you express a coordinate in bytes: some_integer.to_bytes(32, 'big')\n",
    "    # compressed - b'\\x02'/b'\\x03' follewed by x coord. 02 if y is even, 03 otherwise\n",
    "    # print the .hex() of both\n",
    "    uncompressed = b'\\x04' + pp.x.nu.to_bytes(32, 'big') + pp.y.to_bytes(32, 'big')\n",
    "    prefix = b'\\x02' if pp.y % 2 else b'\\x03'\n",
    "    compressed  = prefix + pp.x.to_bytes(32, 'big')\n",
    "    print(uncompressed)\n",
    "    print(compressed)\n",
    "    print()"
   ]
  },
  {
   "cell_type": "markdown",
   "metadata": {},
   "source": [
    "### Test Driven Exercise"
   ]
  },
  {
   "cell_type": "code",
   "execution_count": null,
   "metadata": {},
   "outputs": [],
   "source": [
    "from ecc import S256Point\n",
    "from helper import double_sha256, encode_base58, hash160\n",
    "\n",
    "class S256Point(S256Point):\n",
    "\n",
    "    def sec(self, compressed=True):\n",
    "        # returns the binary version of the sec format, NOT hex\n",
    "        # if compressed, starts with b'\\x02' if self.y.num is even, b'\\x03' if self.y is odd\n",
    "        # then self.x.num\n",
    "        # remember, you have to convert self.x.num/self.y.num to binary (some_integer.to_bytes(32, 'big'))\n",
    "        # if non-compressed, starts with b'\\x04' followod by self.x and then self.y\n",
    "        pass"
   ]
  }
 ],
 "metadata": {
  "kernelspec": {
   "display_name": "Python 3",
   "language": "python",
   "name": "python3"
  },
  "language_info": {
   "codemirror_mode": {
    "name": "ipython",
    "version": 3
   },
   "file_extension": ".py",
   "mimetype": "text/x-python",
   "name": "python",
   "nbconvert_exporter": "python",
   "pygments_lexer": "ipython3",
   "version": "3.6.4"
  }
 },
 "nbformat": 4,
 "nbformat_minor": 2
}
