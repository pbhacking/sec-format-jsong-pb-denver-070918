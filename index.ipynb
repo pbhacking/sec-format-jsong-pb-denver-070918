{
 "cells": [
  {
   "cell_type": "markdown",
   "metadata": {},
   "source": [
    "# SEC Format\n",
    "\n",
    "It turns out there’s already a standard for serializing ECDSA public keys called SEC. SEC stands for Standards for Efficient Cryptography and as the name suggests, it’s got minimal overhead."
   ]
  },
  {
   "cell_type": "code",
   "execution_count": null,
   "metadata": {},
   "outputs": [],
   "source": [
    "# SEC Example\n",
    "\n",
    "from ecc import S256Point\n",
    "\n",
    "point = S256Point(0x5CBDF0646E5DB4EAA398F365F2EA7A0E3D419B7E0330E39CE92BDDEDCAC4F9BC, 0x6AEBCA40BA255960A3178D6D861A54DBA813D0B813FDE7B5A5082628087264DA)\n",
    "\n",
    "uncompressed = b'\\x04' + point.x.num.to_bytes(32, 'big') + point.y.num.to_bytes(32, 'big')\n",
    "print(uncompressed.hex())\n",
    "if point.y.num % 2 == 1:\n",
    "    compressed = b'\\x03' + point.x.num.to_bytes(32, 'big')\n",
    "else:\n",
    "    compressed = b'\\x02' + point.x.num.to_bytes(32, 'big')\n",
    "print(compressed.hex())"
   ]
  },
  {
   "cell_type": "markdown",
   "metadata": {},
   "source": [
    "### Try it\n",
    "\n",
    "#### 6.1. Find the compressed and uncompressed SEC format for pub keys where the private keys are:\n",
    "```\n",
    "999**3, 123, 42424242\n",
    "```"
   ]
  },
  {
   "cell_type": "code",
   "execution_count": 6,
   "metadata": {},
   "outputs": [
    {
     "name": "stdout",
     "output_type": "stream",
     "text": [
      "b'\\x04\\x9d\\\\\\xa4\\x96p\\xcb\\xe4\\xc3\\xbf\\xa8L\\x96\\xa8\\xc8}\\xf0\\x86\\xc6\\xeaj$\\xbak\\x80\\x9c\\x9d\\xe24Ih\\x08\\xd5o\\xa1\\\\\\xc7\\xf3\\xd3\\x8c\\xda\\x98\\xde\\xe2A\\x9fA[u\\x13\\xdd\\xe10\\x1f\\x86C\\xcd\\x92E\\xae\\xa7\\xf3\\xf9\\x11\\xf9'\n",
      "b'\\x02\\x9d\\\\\\xa4\\x96p\\xcb\\xe4\\xc3\\xbf\\xa8L\\x96\\xa8\\xc8}\\xf0\\x86\\xc6\\xeaj$\\xbak\\x80\\x9c\\x9d\\xe24Ih\\x08\\xd5'\n",
      "\n",
      "b'\\x04\\xa5\\x98\\xa8\\x03\\r\\xa6\\xd8lk\\xc7\\xf2\\xf5\\x14N\\xa5I\\xd2\\x82\\x11\\xeaX\\xfa\\xa7\\x0e\\xbfL\\x1ef\\\\\\x1f\\xe9\\xb5 K]o\\x84\\x82,0~KJq@sz\\xec#\\xfcc\\xb6[5\\xf8j\\x10\\x02m\\xbd-\\x86Nk'\n",
      "b'\\x02\\xa5\\x98\\xa8\\x03\\r\\xa6\\xd8lk\\xc7\\xf2\\xf5\\x14N\\xa5I\\xd2\\x82\\x11\\xeaX\\xfa\\xa7\\x0e\\xbfL\\x1ef\\\\\\x1f\\xe9\\xb5'\n",
      "\n",
      "b'\\x04\\xae\\xe2\\xe7\\xd8C\\xf7C\\x00\\x97\\x85\\x9e+\\xc6\\x03\\xab\\xcc2t\\xff\\x81i\\xc1\\xa4i\\xfe\\xe0\\xf2\\x06\\x14\\x06o\\x8e!\\xecS\\xf4\\x0e\\xfa\\xc4z\\xc1\\xc5!\\x1b!#R~\\x0e\\x9bW\\xed\\xe7\\x90\\xc4\\xda\\x1er\\xc9\\x1f\\xb7\\xdaT\\xa3'\n",
      "b'\\x02\\xae\\xe2\\xe7\\xd8C\\xf7C\\x00\\x97\\x85\\x9e+\\xc6\\x03\\xab\\xcc2t\\xff\\x81i\\xc1\\xa4i\\xfe\\xe0\\xf2\\x06\\x14\\x06o\\x8e'\n",
      "\n"
     ]
    }
   ],
   "source": [
    "from ecc import G\n",
    "\n",
    "secrets = (999**3, 123, 42424242)\n",
    "\n",
    "# iterate through secrets\n",
    "for s in secrets:\n",
    "    # get public point\n",
    "    pp = s * G\n",
    "    # uncompressed - b'\\x04' followed by x coord, then y coord\n",
    "    # here's how you express a coordinate in bytes: some_integer.to_bytes(32, 'big')\n",
    "    # compressed - b'\\x02'/b'\\x03' follewed by x coord. 02 if y is even, 03 otherwise\n",
    "    # print the .hex() of both\n",
    "    uncompressed = b'\\x04' + pp.x.num.to_bytes(32, 'big') + pp.y.num.to_bytes(32, 'big')\n",
    "    prefix = b'\\x02' if pp.y.num % 2 else b'\\x03'\n",
    "    compressed  = prefix + pp.x.num.to_bytes(32, 'big')\n",
    "    print(uncompressed.hex())\n",
    "    print(compressed)\n",
    "    print()"
   ]
  },
  {
   "cell_type": "markdown",
   "metadata": {},
   "source": [
    "### Test Driven Exercise"
   ]
  },
  {
   "cell_type": "code",
   "execution_count": null,
   "metadata": {},
   "outputs": [],
   "source": [
    "from ecc import S256Point\n",
    "from helper import double_sha256, encode_base58, hash160\n",
    "\n",
    "class S256Point(S256Point):\n",
    "\n",
    "    def sec(self, compressed=True):\n",
    "        # returns the binary version of the sec format, NOT hex\n",
    "        # if compressed, starts with b'\\x02' if self.y.num is even, b'\\x03' if self.y is odd\n",
    "        # then self.x.num\n",
    "        # remember, you have to convert self.x.num/self.y.num to binary (some_integer.to_bytes(32, 'big'))\n",
    "        # if non-compressed, starts with b'\\x04' followod by self.x and then self.y\n",
    "        pass"
   ]
  }
 ],
 "metadata": {
  "kernelspec": {
   "display_name": "Python 3",
   "language": "python",
   "name": "python3"
  },
  "language_info": {
   "codemirror_mode": {
    "name": "ipython",
    "version": 3
   },
   "file_extension": ".py",
   "mimetype": "text/x-python",
   "name": "python",
   "nbconvert_exporter": "python",
   "pygments_lexer": "ipython3",
   "version": "3.6.4"
  }
 },
 "nbformat": 4,
 "nbformat_minor": 2
}
